{
 "cells": [
  {
   "cell_type": "markdown",
   "id": "d7b4a1fe",
   "metadata": {},
   "source": [
    "# Pranav Bhawsar"
   ]
  },
  {
   "cell_type": "markdown",
   "id": "eef2440c",
   "metadata": {},
   "source": [
    "# Q 1 ) Take input from user 'n' -->  find value of factorial of n ?\n",
    "\n",
    "n! = 1 * 2 * 3 * 4 * 5 ............* (n - 1) * n \n",
    "\n",
    "3! = 1 * 2 * 3 = 6 "
   ]
  },
  {
   "cell_type": "code",
   "execution_count": 1,
   "id": "9755b1d9",
   "metadata": {},
   "outputs": [
    {
     "name": "stdout",
     "output_type": "stream",
     "text": [
      "Enter the numerical Integer value for which you want factorial :  6\n",
      "factorial of 6 is :  720\n"
     ]
    }
   ],
   "source": [
    "ans  = 1           #Initialising\n",
    "n = int(input(\"Enter the numerical Integer value for which you want factorial :  \", ))\n",
    "for i in range(1 , n+1 ): \n",
    "    ans = ans * i\n",
    "print(f\"factorial of {n} is : \" , ans)"
   ]
  },
  {
   "cell_type": "markdown",
   "id": "6cb8d07c",
   "metadata": {},
   "source": [
    "##### Q 2 ) Take input from user 'n' , do Sum of number from 1 to n ?"
   ]
  },
  {
   "cell_type": "code",
   "execution_count": 2,
   "id": "36247601",
   "metadata": {},
   "outputs": [
    {
     "name": "stdout",
     "output_type": "stream",
     "text": [
      "Enter the integer upto which u want sum :6\n",
      "Sum of series 1 to 6 is :  21\n"
     ]
    }
   ],
   "source": [
    "# way 1\n",
    "n = int(input(\"Enter the integer upto which u want sum :\" ))\n",
    "a = []\n",
    "for i in range(1 , n+1):\n",
    "    a.append(i)\n",
    "    i+= 1 \n",
    "print(f\"Sum of series 1 to {n} is : \" , sum(a))"
   ]
  },
  {
   "cell_type": "code",
   "execution_count": 3,
   "id": "c8850f69",
   "metadata": {},
   "outputs": [
    {
     "name": "stdout",
     "output_type": "stream",
     "text": [
      "Enter the integer upto which u want sum :6\n",
      "Sum of series 1 to 6 is :  21\n"
     ]
    }
   ],
   "source": [
    "#way2 \n",
    "n = int(input(\"Enter the integer upto which u want sum :\" ))\n",
    "sum = 0 \n",
    "for i in range(1, n+1) :\n",
    "    sum = sum + i \n",
    "print(f\"Sum of series 1 to {n} is : \" , sum)"
   ]
  },
  {
   "cell_type": "code",
   "execution_count": 4,
   "id": "8ffee8e1",
   "metadata": {},
   "outputs": [
    {
     "name": "stdout",
     "output_type": "stream",
     "text": [
      "Enter the integer upto which u want sum :6\n",
      "Sum of series 1 to 6 is :  21\n"
     ]
    }
   ],
   "source": [
    "#Without using for/while loop \n",
    "#Formula for calculating sum of n numbers = (n*(n+1))//2\n",
    "n = int(input(\"Enter the integer upto which u want sum :\" ))\n",
    "print(f\"Sum of series 1 to {n} is : \" ,(n*(n+1))//2)"
   ]
  },
  {
   "cell_type": "markdown",
   "id": "a9b41782",
   "metadata": {},
   "source": [
    "##### Q 3 ) Print  Multiple of 5  of given integer n ---> present in the range of 1 to n ?\n",
    "\n",
    "ex :- n = 15 ----> 5 , 10 , 15"
   ]
  },
  {
   "cell_type": "code",
   "execution_count": 5,
   "id": "442e60ef",
   "metadata": {},
   "outputs": [
    {
     "name": "stdout",
     "output_type": "stream",
     "text": [
      "Enter the integer for which you want multiple :35\n",
      "5 10 15 20 25 30 35 "
     ]
    }
   ],
   "source": [
    "#WAY1 \n",
    "n = int(input(\"Enter the integer for which you want multiple :\" ))\n",
    "for i in range(1 , n+1 ):\n",
    "    if i%5 == 0 :\n",
    "        print(i , end = \" \")"
   ]
  },
  {
   "cell_type": "code",
   "execution_count": 6,
   "id": "99d5477e",
   "metadata": {},
   "outputs": [
    {
     "name": "stdout",
     "output_type": "stream",
     "text": [
      "Enter the integer for which you want multiple :40\n"
     ]
    },
    {
     "data": {
      "text/plain": [
       "[5, 10, 15, 20, 25, 30, 35, 40]"
      ]
     },
     "execution_count": 6,
     "metadata": {},
     "output_type": "execute_result"
    }
   ],
   "source": [
    "#WAY 3\n",
    "n = int(input(\"Enter the integer for which you want multiple :\" ))\n",
    "[i for i in range(1 , n+1) if i%5 == 0]"
   ]
  },
  {
   "cell_type": "markdown",
   "id": "f779f8a0",
   "metadata": {},
   "source": [
    "##### Q 4) HOW MANY  Multiple of 5 of given integer n ---> present in the range of 1 to n ?"
   ]
  },
  {
   "cell_type": "code",
   "execution_count": 7,
   "id": "8064f905",
   "metadata": {},
   "outputs": [
    {
     "name": "stdout",
     "output_type": "stream",
     "text": [
      "Enter the integer for which you want multiple :40\n",
      "This many multiple of 5 for given number 40 are : 8\n"
     ]
    }
   ],
   "source": [
    "n = int(input(\"Enter the integer for which you want multiple :\" ))\n",
    "print(f\"This many multiple of 5 for given number {n} are :\" , n//5)"
   ]
  },
  {
   "cell_type": "markdown",
   "id": "1ee712ea",
   "metadata": {},
   "source": [
    "##### Q  5 ) Write a Program to design calculator using (if ,  else , for loop ) ? "
   ]
  },
  {
   "cell_type": "code",
   "execution_count": 8,
   "id": "3572f00c",
   "metadata": {},
   "outputs": [
    {
     "name": "stdout",
     "output_type": "stream",
     "text": [
      "Enter the first numerical value :- 6\n",
      "Enter the second numerical value :- 3\n",
      "Enter the operation you want to do ( + , - , * , / ) :- +\n",
      "Addition i.e. '+' of first and second value is : 9\n"
     ]
    }
   ],
   "source": [
    "x = int(input(\"Enter the first numerical value :- \"))\n",
    "y = int(input(\"Enter the second numerical value :- \"))\n",
    "z = input(\"Enter the operation you want to do ( + , - , * , / ) :- \" )\n",
    "if z == '+' :\n",
    "    print( \"Addition i.e. '+' of first and second value is :\" , x + y )\n",
    "elif z == '-' :\n",
    "    print( \"Substraction i.e. '-' of first and second value is  :\" , x - y )\n",
    "elif z == '*' :\n",
    "    print( \"Multiplication i.e. '*' of first and second value is  :\" , x * y )\n",
    "elif z == '/' :\n",
    "    print( \"Division i.e. '/' of first and second value is  :\" , x / y )\n",
    "else :\n",
    "    print('Enter a valid operation 😑')\n"
   ]
  },
  {
   "cell_type": "markdown",
   "id": "19297f3f",
   "metadata": {},
   "source": [
    "##### Q 6 ) Write a program to print any multiplication table upto 10 multiplications ?"
   ]
  },
  {
   "cell_type": "code",
   "execution_count": 9,
   "id": "b11a57d9",
   "metadata": {},
   "outputs": [
    {
     "name": "stdout",
     "output_type": "stream",
     "text": [
      "Enter the numerical value for which you want multiplication table : 8\n",
      "Desired Multiplication table is : \n",
      "8 16 24 32 40 48 56 64 72 80 "
     ]
    }
   ],
   "source": [
    "n =  int(input(\"Enter the numerical value for which you want multiplication table : \" , ))\n",
    "print('Desired Multiplication table is : ')\n",
    "for i in range(1 , 11):\n",
    "    print( i * n , end = \" \")"
   ]
  },
  {
   "cell_type": "code",
   "execution_count": 11,
   "id": "ebc59ca0",
   "metadata": {},
   "outputs": [
    {
     "name": "stdout",
     "output_type": "stream",
     "text": [
      "2.5\n"
     ]
    }
   ],
   "source": [
    "x = [ 1,2,3,4,5,6]\n",
    "sum = 0 \n",
    "for I in range (0,len(x)) :\n",
    "      sum = sum + I \n",
    "print(sum/len(x))"
   ]
  },
  {
   "cell_type": "markdown",
   "id": "b7b527db",
   "metadata": {},
   "source": [
    "##### Q 7 )Iterate over string "
   ]
  },
  {
   "cell_type": "code",
   "execution_count": 13,
   "id": "b1f041e4",
   "metadata": {},
   "outputs": [
    {
     "name": "stdout",
     "output_type": "stream",
     "text": [
      "Enter the string : Pranav\n",
      "P\n",
      "r\n",
      "a\n",
      "n\n",
      "a\n",
      "v\n"
     ]
    }
   ],
   "source": [
    "x = input(\"Enter the string : \")\n",
    "for i in range(0 , len(x)):\n",
    "    print(x[i])"
   ]
  },
  {
   "cell_type": "code",
   "execution_count": 14,
   "id": "f92981f0",
   "metadata": {},
   "outputs": [
    {
     "name": "stdout",
     "output_type": "stream",
     "text": [
      "Enter the string : Pranav\n",
      "P r a n a v "
     ]
    }
   ],
   "source": [
    "x = input(\"Enter the string : \")\n",
    "for i in range(0 , len(x)):\n",
    "    print(x[i] ,  end = \" \")"
   ]
  },
  {
   "cell_type": "markdown",
   "id": "1c798b38",
   "metadata": {},
   "source": [
    "##### Q 8 ) Find the word is present in sentence or not ?"
   ]
  },
  {
   "cell_type": "code",
   "execution_count": 15,
   "id": "daf0ce44",
   "metadata": {},
   "outputs": [
    {
     "name": "stdout",
     "output_type": "stream",
     "text": [
      "Word is present in sentence\n"
     ]
    }
   ],
   "source": [
    "sentence = \"India is doing well in the era of global south \"\n",
    "word = ('global')\n",
    "if word in sentence :\n",
    "    print(\"Word is present in sentence\")\n",
    "else :\n",
    "    print(\"Word is not Present in sentence\")"
   ]
  },
  {
   "cell_type": "markdown",
   "id": "b28b01e8",
   "metadata": {},
   "source": [
    "##### Q 9 ) Slicing"
   ]
  },
  {
   "cell_type": "code",
   "execution_count": 19,
   "id": "e19bc06f",
   "metadata": {},
   "outputs": [
    {
     "name": "stdout",
     "output_type": "stream",
     "text": [
      "a\n",
      " \n",
      "i\n",
      "s\n",
      " \n",
      "d\n",
      "o\n",
      "i\n",
      "n\n",
      "g\n",
      " \n",
      "w\n"
     ]
    }
   ],
   "source": [
    "#Print all the characters present in the given range\n",
    "#WAY 1\n",
    "x = \"India is doing well in the era of global south \"\n",
    "index_1 = 4\n",
    "index_2 = 15 \n",
    "for i in range (index_1 , index_2 + 1 ):\n",
    "    print(x[i])"
   ]
  },
  {
   "cell_type": "code",
   "execution_count": 20,
   "id": "440b8b6b",
   "metadata": {},
   "outputs": [
    {
     "data": {
      "text/plain": [
       "'a is doing '"
      ]
     },
     "execution_count": 20,
     "metadata": {},
     "output_type": "execute_result"
    }
   ],
   "source": [
    "#WAY 2\n",
    "x = \"India is doing well in the era of global south \"\n",
    "x[4:15]"
   ]
  },
  {
   "cell_type": "markdown",
   "id": "ceed0e41",
   "metadata": {},
   "source": [
    "## List "
   ]
  },
  {
   "cell_type": "markdown",
   "id": "9f9d0c67",
   "metadata": {},
   "source": [
    "##### Q 10 ) How many times given number is present in given list ?"
   ]
  },
  {
   "cell_type": "code",
   "execution_count": 21,
   "id": "39366488",
   "metadata": {},
   "outputs": [
    {
     "name": "stdout",
     "output_type": "stream",
     "text": [
      "3\n"
     ]
    }
   ],
   "source": [
    "#WAY 1\n",
    "x = [ 1 , 2 , 5 , 5 , 6 , 8 , 79 , 6 , 88 , 33 , 101 , 5 ]\n",
    "number = 5\n",
    "w = []\n",
    "for i in x :\n",
    "    if i == number :\n",
    "        w.append(i)\n",
    "print(len(w))"
   ]
  },
  {
   "cell_type": "code",
   "execution_count": 23,
   "id": "7377b2b5",
   "metadata": {},
   "outputs": [
    {
     "name": "stdout",
     "output_type": "stream",
     "text": [
      "Enter the you want to find in given list : 5\n",
      "3\n"
     ]
    }
   ],
   "source": [
    "#WAY 2 \n",
    "x = [ 1 , 2 , 5 , 5 , 6 , 8 , 79 , 6 , 88 , 33 , 101 , 5 ]\n",
    "number = int(input(\"Enter the you want to find in given list : \"))\n",
    "count = 0 \n",
    "for i in x :\n",
    "    if i == number:\n",
    "        count = count + 1 \n",
    "print(count)"
   ]
  },
  {
   "cell_type": "code",
   "execution_count": 28,
   "id": "31a08e9d",
   "metadata": {},
   "outputs": [
    {
     "name": "stdout",
     "output_type": "stream",
     "text": [
      "Enter the you want to find in given list : 5\n",
      "3\n"
     ]
    }
   ],
   "source": [
    "#WAY 3\n",
    "x = [ 1 , 2 , 5 , 5 , 6 , 8 , 79 , 6 , 88 , 33 , 101 , 5 ]\n",
    "number = int(input(\"Enter the you want to find in given list : \"))\n",
    "count = 0 \n",
    "for i in range(0,len(x)) :\n",
    "    if x[i] == number:\n",
    "        count = count + 1 \n",
    "print(count)"
   ]
  },
  {
   "cell_type": "markdown",
   "id": "7f6ebc92",
   "metadata": {},
   "source": [
    "##### Q 11 ) Given a list of integer find its average ?"
   ]
  },
  {
   "cell_type": "code",
   "execution_count": 36,
   "id": "3b344a02",
   "metadata": {},
   "outputs": [
    {
     "name": "stdout",
     "output_type": "stream",
     "text": [
      "3.0\n"
     ]
    }
   ],
   "source": [
    "#WAY 1\n",
    "x = [1 , 2 , 3 , 4 , 5 ]\n",
    "sum = 0 \n",
    "for i in range (0 , len(x)+1):\n",
    "    sum = sum+i\n",
    "print(sum/len(x))"
   ]
  },
  {
   "cell_type": "code",
   "execution_count": 39,
   "id": "47ceb324",
   "metadata": {},
   "outputs": [
    {
     "name": "stdout",
     "output_type": "stream",
     "text": [
      "3.0\n"
     ]
    }
   ],
   "source": [
    "#WAY 2 \n",
    "x = [1 , 2 , 3 , 4 , 5 ]\n",
    "sum_list = 0\n",
    "len_list = 0\n",
    "for i in range (0 , len(x)):\n",
    "    sum_list = sum_list + x[i]\n",
    "    len_list = len_list + 1 \n",
    "print(sum_list/len_list)           # / 'Normal' division bcaz average can be float "
   ]
  },
  {
   "cell_type": "markdown",
   "id": "ca63e14c",
   "metadata": {},
   "source": [
    "##### Q 12 ) In Given string , how many times a character is repeated ?"
   ]
  },
  {
   "cell_type": "code",
   "execution_count": 43,
   "id": "cee598c2",
   "metadata": {},
   "outputs": [
    {
     "name": "stdout",
     "output_type": "stream",
     "text": [
      "3\n"
     ]
    }
   ],
   "source": [
    "#WAY 1\n",
    "x = \"India is doing well in the era of global south \"\n",
    "char = 'a'\n",
    "count = 0 \n",
    "for i in x :\n",
    "    if i == char :\n",
    "        count = count + 1 \n",
    "print(count)"
   ]
  },
  {
   "cell_type": "code",
   "execution_count": 44,
   "id": "e9010836",
   "metadata": {},
   "outputs": [
    {
     "name": "stdout",
     "output_type": "stream",
     "text": [
      "Enter what character u want to find in given string: e\n",
      "3\n"
     ]
    }
   ],
   "source": [
    "#WAY 2 \n",
    "x = \"India is doing well in the era of global south \"\n",
    "char = input(\"Enter what character u want to find in given string: \")\n",
    "count = 0\n",
    "for i in range (0 , len(x)):\n",
    "    if x[i] == char :\n",
    "        count = count + 1 \n",
    "print(count)"
   ]
  },
  {
   "cell_type": "markdown",
   "id": "a3b36872",
   "metadata": {},
   "source": [
    "##### Q 13 ) In Given string , how many times each character is repeated ?"
   ]
  },
  {
   "cell_type": "code",
   "execution_count": 49,
   "id": "18094b24",
   "metadata": {},
   "outputs": [
    {
     "name": "stdout",
     "output_type": "stream",
     "text": [
      "{'i': 4, 'n': 3, 'd': 2, 'a': 3, ' ': 10, 's': 2, 'o': 4, 'g': 2, 'w': 1, 'e': 3, 'l': 4, 't': 2, 'h': 2, 'r': 1, 'f': 1, 'b': 1, 'u': 1}\n"
     ]
    }
   ],
   "source": [
    "Input = \"India is doing well in the era of global south \"\n",
    "Output = {}\n",
    "for i in Input.lower():\n",
    "    if i.isalpha:\n",
    "        Output[i] = Input.count(i)\n",
    "print(Output)"
   ]
  }
 ],
 "metadata": {
  "kernelspec": {
   "display_name": "Python 3 (ipykernel)",
   "language": "python",
   "name": "python3"
  },
  "language_info": {
   "codemirror_mode": {
    "name": "ipython",
    "version": 3
   },
   "file_extension": ".py",
   "mimetype": "text/x-python",
   "name": "python",
   "nbconvert_exporter": "python",
   "pygments_lexer": "ipython3",
   "version": "3.11.4"
  }
 },
 "nbformat": 4,
 "nbformat_minor": 5
}
