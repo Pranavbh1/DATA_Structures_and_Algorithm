{
 "cells": [
  {
   "cell_type": "markdown",
   "id": "65f58336",
   "metadata": {},
   "source": [
    "# Q 23 ) I want to give space seperated integer and a operator , i want that operator should apply ."
   ]
  },
  {
   "cell_type": "markdown",
   "id": "2a1b6e98",
   "metadata": {},
   "source": [
    "```\n",
    "input : space separated integers and 1 operator(+ - * /)\n",
    "task : perform the operation specified by the operator given\n",
    "eg 1 2 3 4 5\n",
    "+ 1+2+3+4+5\n",
    "- 1-2-3-4-5\n",
    "* 1*2*3*4*5\n",
    "/ 1/2/3/4/5\n",
    "```"
   ]
  },
  {
   "cell_type": "code",
   "execution_count": 1,
   "id": "200b2c3d",
   "metadata": {},
   "outputs": [
    {
     "name": "stdout",
     "output_type": "stream",
     "text": [
      "1 2 3 4 5\n",
      "+\n"
     ]
    }
   ],
   "source": [
    "numbers  = input()\n",
    "operator = input()"
   ]
  },
  {
   "cell_type": "code",
   "execution_count": 2,
   "id": "b27492d2",
   "metadata": {},
   "outputs": [
    {
     "name": "stdout",
     "output_type": "stream",
     "text": [
      "1 2 3 4 5\n",
      "+\n"
     ]
    }
   ],
   "source": [
    "print(numbers,operator,sep=\"\\n\")"
   ]
  },
  {
   "cell_type": "code",
   "execution_count": 4,
   "id": "8a2d65e0",
   "metadata": {},
   "outputs": [
    {
     "data": {
      "text/plain": [
       "['1', '2', '3', '4', '5']"
      ]
     },
     "execution_count": 4,
     "metadata": {},
     "output_type": "execute_result"
    }
   ],
   "source": [
    "numbers = numbers.split(\" \")\n",
    "numbers"
   ]
  },
  {
   "cell_type": "code",
   "execution_count": 7,
   "id": "a8887298",
   "metadata": {},
   "outputs": [],
   "source": [
    "numbers=list(map(int,numbers))"
   ]
  },
  {
   "cell_type": "code",
   "execution_count": 8,
   "id": "77b2ea15",
   "metadata": {},
   "outputs": [
    {
     "data": {
      "text/plain": [
       "[1, 2, 3, 4, 5]"
      ]
     },
     "execution_count": 8,
     "metadata": {},
     "output_type": "execute_result"
    }
   ],
   "source": [
    "numbers"
   ]
  },
  {
   "cell_type": "code",
   "execution_count": 10,
   "id": "8d1bbd55",
   "metadata": {},
   "outputs": [],
   "source": [
    "def calculator(numbers,operator):\n",
    "    \n",
    "    if operator==\"+\":\n",
    "        pranav = 0\n",
    "        for i in numbers:\n",
    "            pranav=pranav + i\n",
    "        return pranav\n",
    "    \n",
    "    elif operator==\"-\":\n",
    "        deepraj = numbers[0]\n",
    "        for i in range(1,len(numbers)):\n",
    "            deepraj = deepraj-numbers[i]\n",
    "        return deepraj\n",
    "    # (((1-2)-3)-4)-5\n",
    "    \n",
    "    elif operator==\"*\":\n",
    "        vaibhav = 1\n",
    "        for i in numbers:\n",
    "            vaibhav = vaibhav*i\n",
    "        return vaibhav\n",
    "        \n",
    "    elif operator==\"/\":\n",
    "        kanav = numbers[0]\n",
    "        for i in range(1,len(numbers)):\n",
    "            if numbers[i]==0:\n",
    "                print(\"exception error\")\n",
    "                break\n",
    "            else:\n",
    "                kanav = kanav / numbers[i]\n",
    "        return kanav\n",
    "        \n",
    "    else:\n",
    "        print(\"Check your operator!! Ordered by pavan\")"
   ]
  },
  {
   "cell_type": "code",
   "execution_count": 15,
   "id": "c17337d4",
   "metadata": {},
   "outputs": [
    {
     "name": "stdout",
     "output_type": "stream",
     "text": [
      "exception error\n"
     ]
    },
    {
     "data": {
      "text/plain": [
       "1"
      ]
     },
     "execution_count": 15,
     "metadata": {},
     "output_type": "execute_result"
    }
   ],
   "source": [
    "calculator([1,0,3,4,5],'/')"
   ]
  },
  {
   "cell_type": "markdown",
   "id": "80ae72f6",
   "metadata": {},
   "source": [
    "# Q 24 ) what is this behaving like this ?"
   ]
  },
  {
   "cell_type": "code",
   "execution_count": 1,
   "id": "51d2fe7b",
   "metadata": {},
   "outputs": [
    {
     "name": "stdout",
     "output_type": "stream",
     "text": [
      "['a', 'b', 'c', 'd', 'e', 1, 2, 3, 4, 5, [...]]\n"
     ]
    }
   ],
   "source": [
    "l1 = [1,2,3,4,5]\n",
    "l2 = ['a','b','c','d','e']\n",
    "l1.append(l2)\n",
    "l2.extend(l1)\n",
    "print(l2)"
   ]
  },
  {
   "cell_type": "code",
   "execution_count": 21,
   "id": "17b3c999",
   "metadata": {},
   "outputs": [
    {
     "data": {
      "text/plain": [
       "[1, 2, 3, 4, 5, ['a', 'b', 'c', 'd', 'e']]"
      ]
     },
     "execution_count": 21,
     "metadata": {},
     "output_type": "execute_result"
    }
   ],
   "source": [
    "l1.append(l2)\n",
    "l1\n",
    "# [1,2,3,4,5,l2]"
   ]
  },
  {
   "cell_type": "code",
   "execution_count": 22,
   "id": "1b610dbf",
   "metadata": {},
   "outputs": [
    {
     "data": {
      "text/plain": [
       "['a', 'b', 'c', 'd', 'e', 1, 2, 3, 4, 5, [...]]"
      ]
     },
     "execution_count": 22,
     "metadata": {},
     "output_type": "execute_result"
    }
   ],
   "source": [
    "l2.extend(l1)\n",
    "l2"
   ]
  },
  {
   "cell_type": "code",
   "execution_count": 27,
   "id": "97640fdd",
   "metadata": {},
   "outputs": [
    {
     "data": {
      "text/plain": [
       "11"
      ]
     },
     "execution_count": 27,
     "metadata": {},
     "output_type": "execute_result"
    }
   ],
   "source": [
    "len(l2)"
   ]
  },
  {
   "cell_type": "markdown",
   "id": "3f83d38d",
   "metadata": {},
   "source": [
    "##### [...] implies that the value is repeating , it is taking self reference and repeating the extend value ."
   ]
  },
  {
   "cell_type": "markdown",
   "id": "a24772ae",
   "metadata": {},
   "source": [
    "# Q 25 ) What it it behaving like this ?"
   ]
  },
  {
   "cell_type": "code",
   "execution_count": 11,
   "id": "9c2875b6",
   "metadata": {},
   "outputs": [
    {
     "data": {
      "text/plain": [
       "7"
      ]
     },
     "execution_count": 11,
     "metadata": {},
     "output_type": "execute_result"
    }
   ],
   "source": [
    "s  = 'pranav'\n",
    "s.count('')"
   ]
  },
  {
   "cell_type": "code",
   "execution_count": 2,
   "id": "cdb330ce",
   "metadata": {},
   "outputs": [
    {
     "data": {
      "text/plain": [
       "1"
      ]
     },
     "execution_count": 2,
     "metadata": {},
     "output_type": "execute_result"
    }
   ],
   "source": [
    "s = ''\n",
    "s.count('')"
   ]
  },
  {
   "cell_type": "markdown",
   "id": "1e36d976",
   "metadata": {},
   "source": [
    "##### End of string : - the answer is 7 because at the end of the string there is something called as \"end of string\" it will also count that one , because the end of string is stored when  memory allocated."
   ]
  },
  {
   "cell_type": "markdown",
   "id": "27951613",
   "metadata": {},
   "source": [
    "# Q 26 ) Solve the nested list with while loop ?"
   ]
  },
  {
   "cell_type": "code",
   "execution_count": 9,
   "id": "cd76d443",
   "metadata": {},
   "outputs": [
    {
     "data": {
      "text/plain": [
       "[[1, 2, 3, 4], [5, 6, 7, 8], [9, 10, 11, 12], [13, 14, 15, 16]]"
      ]
     },
     "execution_count": 9,
     "metadata": {},
     "output_type": "execute_result"
    }
   ],
   "source": [
    "l1 = [[1,2,3,4],\n",
    "      [5,6,7,8],\n",
    "      [9,10,11,12],\n",
    "      [13,14,15,16]]\n",
    "l1"
   ]
  },
  {
   "cell_type": "code",
   "execution_count": 10,
   "id": "b7ef780b",
   "metadata": {},
   "outputs": [
    {
     "name": "stdout",
     "output_type": "stream",
     "text": [
      "1 2 3 4 5 6 7 8 9 10 11 12 13 14 15 16 "
     ]
    }
   ],
   "source": [
    "i = 0 \n",
    "while i < len(l1):\n",
    "    j=0\n",
    "    while j < len(l1[i]):\n",
    "        print(l1[i][j],end=\" \")# j3 l1[j]5 l1[j][i]1 l1[i][j]12\n",
    "        j+=1\n",
    "    i+=1"
   ]
  },
  {
   "cell_type": "code",
   "execution_count": null,
   "id": "f78c3c50",
   "metadata": {},
   "outputs": [],
   "source": []
  }
 ],
 "metadata": {
  "kernelspec": {
   "display_name": "Python 3 (ipykernel)",
   "language": "python",
   "name": "python3"
  },
  "language_info": {
   "codemirror_mode": {
    "name": "ipython",
    "version": 3
   },
   "file_extension": ".py",
   "mimetype": "text/x-python",
   "name": "python",
   "nbconvert_exporter": "python",
   "pygments_lexer": "ipython3",
   "version": "3.11.4"
  }
 },
 "nbformat": 4,
 "nbformat_minor": 5
}
