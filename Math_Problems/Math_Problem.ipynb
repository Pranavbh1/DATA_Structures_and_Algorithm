{
 "cells": [
  {
   "cell_type": "markdown",
   "id": "b99c2617",
   "metadata": {},
   "source": [
    "# PRANAV BHAWSAR "
   ]
  },
  {
   "cell_type": "markdown",
   "id": "0a6d508f",
   "metadata": {},
   "source": [
    "# Q1 ) Given a positive integer n , return the smallest positive integer that is a multiple of both 2 and n ? #2143"
   ]
  },
  {
   "cell_type": "markdown",
   "id": "39517e71",
   "metadata": {},
   "source": [
    "##### Constraint :\n",
    "\n",
    "1 <= n <= 150"
   ]
  },
  {
   "cell_type": "markdown",
   "id": "adec1eba",
   "metadata": {},
   "source": [
    "Example 1: \n",
    "\n",
    "Input: n = 5 \n",
    "\n",
    "Output: 10 \n",
    "\n",
    "Explanation: The smallest multiple of both 5 and 2 is 10. \n",
    " \n",
    "\n",
    "Example 2: \n",
    "\n",
    "Input: n = 6 \n",
    "\n",
    "Output: 6 \n",
    "\n",
    "Explanation: The smallest multiple of both 6 and 2 is 6. Note that a number is a multiple of itself. \n",
    " "
   ]
  },
  {
   "cell_type": "code",
   "execution_count": 5,
   "id": "2c99e8f7",
   "metadata": {},
   "outputs": [
    {
     "name": "stdout",
     "output_type": "stream",
     "text": [
      "Enter a positive integer n :6\n",
      "the smallest positive integer that is a multiple of both 2 and n : 6\n"
     ]
    }
   ],
   "source": [
    "n = int(input(\"Enter a positive integer n :\"))\n",
    "if n%2 == 0 :\n",
    "    print(\"the smallest positive integer that is a multiple of both 2 and n :\" , n)\n",
    "else :\n",
    "    print(\"the smallest positive integer that is a multiple of both 2 and n :\" , n*2)\n",
    "    \n",
    "#Lets try for even number as input"
   ]
  },
  {
   "cell_type": "code",
   "execution_count": 6,
   "id": "3fa7772c",
   "metadata": {},
   "outputs": [
    {
     "name": "stdout",
     "output_type": "stream",
     "text": [
      "Enter a positive integer n :5\n",
      "the smallest positive integer that is a multiple of both 2 and n : 10\n"
     ]
    }
   ],
   "source": [
    "n = int(input(\"Enter a positive integer n :\"))\n",
    "if n%2 == 0 :\n",
    "    print(\"the smallest positive integer that is a multiple of both 2 and n :\" , n)\n",
    "else :\n",
    "    print(\"the smallest positive integer that is a multiple of both 2 and n :\" , n*2)\n",
    "    \n",
    "#Lets try for odd number as input"
   ]
  },
  {
   "cell_type": "code",
   "execution_count": 9,
   "id": "72b63159",
   "metadata": {},
   "outputs": [
    {
     "name": "stdout",
     "output_type": "stream",
     "text": [
      "Enter a positive integer n :9\n"
     ]
    },
    {
     "data": {
      "text/plain": [
       "[18]"
      ]
     },
     "execution_count": 9,
     "metadata": {},
     "output_type": "execute_result"
    }
   ],
   "source": [
    "n = int(input(\"Enter a positive integer n :\"))\n",
    "[n if n%2 == 0 else n*2 ]"
   ]
  },
  {
   "cell_type": "markdown",
   "id": "33afda21",
   "metadata": {},
   "source": [
    "# Q 2 ) Given a integer number n , return the difference between the product of its digits and the sum of its digits ? #1281"
   ]
  },
  {
   "cell_type": "markdown",
   "id": "509bddf1",
   "metadata": {},
   "source": [
    "##### Constraints :\n",
    "\n",
    "1 <= n <= 10^5"
   ]
  },
  {
   "cell_type": "markdown",
   "id": "2a408016",
   "metadata": {},
   "source": [
    "Example 1: \n",
    "\n",
    "Input: n = 234 \n",
    "\n",
    "Output: 15  \n",
    "\n",
    "Explanation:  \n",
    "\n",
    "Product of digits = 2 * 3 * 4 = 24  \n",
    "\n",
    "Sum of digits = 2 + 3 + 4 = 9  \n",
    "\n",
    "Result = 24 - 9 = 15 \n",
    " \n",
    "\n",
    "Example 2: \n",
    "\n",
    "Input: n = 4421 \n",
    "\n",
    "Output: 21 \n",
    "\n",
    "Explanation:  \n",
    "\n",
    "Product of digits = 4 * 4 * 2 * 1 = 32  \n",
    "\n",
    "Sum of digits = 4 + 4 + 2 + 1 = 11  \n",
    "\n",
    "Result = 32 - 11 = 21 \n",
    " "
   ]
  },
  {
   "cell_type": "code",
   "execution_count": 15,
   "id": "7c647cfa",
   "metadata": {},
   "outputs": [
    {
     "name": "stdout",
     "output_type": "stream",
     "text": [
      "Enter a integer number i.e. n : 234\n",
      "the difference between the product of its digits and the sum of its digits: 15\n"
     ]
    }
   ],
   "source": [
    "#way 1 \n",
    "n = int(input(\"Enter a integer number i.e. n : \"))\n",
    "prod = 1\n",
    "sum1 = 0\n",
    "for digit in str(n) :\n",
    "    sum1 += int(digit)           #sum1 = sum1 + int(digit)\n",
    "    prod *= int(digit)           #prod = prod * int(digit)\n",
    "print(\"the difference between the product of its digits and the sum of its digits:\",prod-sum1)"
   ]
  },
  {
   "cell_type": "code",
   "execution_count": 28,
   "id": "b1d10005",
   "metadata": {},
   "outputs": [
    {
     "name": "stdout",
     "output_type": "stream",
     "text": [
      "234\n"
     ]
    },
    {
     "data": {
      "text/plain": [
       "15"
      ]
     },
     "execution_count": 28,
     "metadata": {},
     "output_type": "execute_result"
    }
   ],
   "source": [
    "#way 2\n",
    "def compute_difference():\n",
    "    n = int(input())\n",
    "    sum1 = 0\n",
    "    prod = 1\n",
    "    converted_n = str(n)\n",
    "    for digit in converted_n:\n",
    "        sum1 += int(digit)           #sum1 = sum1 + int(digit)\n",
    "        prod *= int(digit)           #prod = prod * int(digit)\n",
    "    return prod - sum1\n",
    "#     diff = compute_difference(converted_n)\n",
    "#     print(diff)\n",
    "compute_difference()"
   ]
  },
  {
   "cell_type": "code",
   "execution_count": 29,
   "id": "b0caa976",
   "metadata": {},
   "outputs": [
    {
     "name": "stdout",
     "output_type": "stream",
     "text": [
      "234\n",
      "15\n"
     ]
    }
   ],
   "source": [
    "#way3\n",
    "n = int(input())\n",
    "sum1 = 0 \n",
    "prod = 1\n",
    "while n > 0 :                    #n != 0 also works\n",
    "    digit = n % 10               #Giving reminder i.e. 4 i.e. excluding first two numbers\n",
    "    sum1 += int(digit)           #sum1 = sum1 + int(digit)\n",
    "    prod *= int(digit)           #prod = prod * int(digit)\n",
    "    \n",
    "    n = n // 10                  ##Giving Quotient i.e. 23 i.e. excluding last number\n",
    "print(prod - sum1)\n",
    "    "
   ]
  },
  {
   "cell_type": "markdown",
   "id": "d09ed1de",
   "metadata": {},
   "source": [
    "# Q 3 ) Given an array nums containing n distinct numbers in the range [ 0 , n] , return the only (single) number in the range that is missing from the array ? #268"
   ]
  },
  {
   "cell_type": "markdown",
   "id": "a83dd38a",
   "metadata": {},
   "source": [
    "##### Constraints :\n",
    "\n",
    "- n == nums.length\n",
    "- 1 <= n <= 10^4\n",
    "- 0 <= num[i] <= n\n",
    "- All the numbers of nums are unique."
   ]
  },
  {
   "cell_type": "markdown",
   "id": "9850f958",
   "metadata": {},
   "source": [
    "Example 1: \n",
    "\n",
    "Input: nums = [3,0,1] \n",
    "\n",
    "Output: 2 \n",
    "\n",
    "Explanation: n = 3 since there are 3 numbers, so all numbers are in the range [0,3]. 2 is the missing number in the range since it does not appear in nums. \n",
    " \n",
    "\n",
    "Example 2: \n",
    "\n",
    "Input: nums = [0,1] \n",
    "\n",
    "Output: 2 \n",
    "\n",
    "Explanation: n = 2 since there are 2 numbers, so all numbers are in the range [0,2]. 2 is the missing number in the range since it does not appear in nums. \n",
    " \n",
    "\n",
    "Example 3: \n",
    "\n",
    "Input: nums = [9,6,4,2,3,5,7,0,1] \n",
    "\n",
    "Output: 8 \n",
    "\n",
    "Explanation: n = 9 since there are 9 numbers, so all numbers are in the range [0,9]. 8 is the missing number in the range since it does not appear in nums."
   ]
  },
  {
   "cell_type": "code",
   "execution_count": 80,
   "id": "59871c31",
   "metadata": {},
   "outputs": [
    {
     "name": "stdout",
     "output_type": "stream",
     "text": [
      "9,6,4,2,3,5,7,0,1\n",
      "[8]\n"
     ]
    }
   ],
   "source": [
    "num = list(map(int, input().split(\",\")))\n",
    "missing_no = []\n",
    "for i in range(len(num)+1):\n",
    "   if i not in num:\n",
    "      missing_no.append(i)\n",
    "print(missing_no)"
   ]
  },
  {
   "cell_type": "code",
   "execution_count": 15,
   "id": "e258d0a8",
   "metadata": {},
   "outputs": [
    {
     "name": "stdout",
     "output_type": "stream",
     "text": [
      "3,0,1\n",
      "2\n"
     ]
    }
   ],
   "source": [
    "#Robust way ✅\n",
    "#Sum of range [0,n] - sum of given list                #substraction\n",
    "num_list = list(map(int, input().split(\",\")))\n",
    "n = len(num_list)\n",
    "sum_n = []\n",
    "for i in num_list:\n",
    "    sum_n.append(i)\n",
    "print((n*(n+1)//2)-sum(sum_n))\n",
    "\n",
    "# print(sum_n)\n",
    "# print(sum(sum_n))\n",
    "# p = sum(sum_n)\n",
    "# print(p)\n",
    "# q =(n*(n+1)//2)\n",
    "# print(q)\n",
    "# print(q-p)\n",
    "# print(sum(sum_n))\n",
    "# print((n*(n+1)//2)-sum(sum_n))\n",
    "# print(n)"
   ]
  },
  {
   "cell_type": "code",
   "execution_count": 85,
   "id": "5ffc24d5",
   "metadata": {},
   "outputs": [
    {
     "name": "stdout",
     "output_type": "stream",
     "text": [
      "9,6,4,2,3,5,7,0,1\n",
      "Input: [0 1 2 3 4 5 6 7 9]\n",
      "Missing number : [8]\n"
     ]
    }
   ],
   "source": [
    "x = list(map(int,input().strip().split(',')))\n",
    "a = np.array(x)\n",
    "print(\"Input:\" , np.unique(a))\n",
    "z = []\n",
    "for i in range(0,len(a)+1):\n",
    "    if i not in x :\n",
    "        z.append(i)\n",
    "print(\"Missing number :\", z)"
   ]
  },
  {
   "cell_type": "code",
   "execution_count": null,
   "id": "e7f2a929",
   "metadata": {},
   "outputs": [],
   "source": []
  },
  {
   "cell_type": "code",
   "execution_count": 1,
   "id": "1203c890",
   "metadata": {},
   "outputs": [],
   "source": [
    "# x = list(map(int,input().strip().split(',')))\n",
    "# [[0,1,2,3,4,5,6,7,8,9] not in range(0,len(a)+1)]"
   ]
  },
  {
   "cell_type": "code",
   "execution_count": 86,
   "id": "be935506",
   "metadata": {},
   "outputs": [],
   "source": [
    "# n=[]\n",
    "# x = int(input(\"Enter the range i.e. n :\"))\n",
    "# y = int(input(\"The Number is missing:\"))\n",
    "# for i in range(0,x):\n",
    "#     if i == y:\n",
    "#         continue\n",
    "        \n",
    "#     n.append(i)\n",
    "    \n",
    "# print(n)\n",
    "# print(y) "
   ]
  },
  {
   "cell_type": "code",
   "execution_count": 87,
   "id": "e52a0eca",
   "metadata": {},
   "outputs": [],
   "source": [
    "# x = list(map(int,input().strip().split(',')))\n",
    "# a = np.array(x)\n",
    "# print(\"Input:\" , np.unique(a))\n",
    "# z = []\n",
    "# for i in range(0,len(a)+1):\n",
    "#     if i not in x :\n",
    "#         z.append(i)\n",
    "# print(z)"
   ]
  },
  {
   "cell_type": "code",
   "execution_count": 88,
   "id": "0d7700cb",
   "metadata": {},
   "outputs": [],
   "source": [
    "# x = list(map(int,input().strip().split(',')))\n",
    "# a = np.array(x)\n",
    "# print(\"Input:\" , np.unique(a))\n",
    "# z = []\n",
    "# for i in range(0,len(a)):\n",
    "#     if i not in x :\n",
    "#         z.append(i)\n",
    "# print(z)"
   ]
  },
  {
   "cell_type": "markdown",
   "id": "d1ec6d5d",
   "metadata": {},
   "source": [
    "# Q 4 ) you are working in a ball factory where you have n balls numbered from LOWLIMIT up to HIGHLIMIT inclusive(i.e. n== HIGHLIMIT - LOWLIMIT +1 ) ,and an infinite number of boxes numbered from 1 to infinity . your job at this factory is to put each ball in the box with a number equal to the sum of digits of the ball's number . For example , at the ball number 231 will be put in the box number 3 + 2 + 1 = 6 and the ball number 10 will be put in the box number1 + 0 = 1. Given two integers LOWLIMIT and HIGHLIMIT , return the number of balls in the box with the most balls . #1742"
   ]
  },
  {
   "cell_type": "markdown",
   "id": "7fdd1cff",
   "metadata": {},
   "source": [
    "##### Constraints :- \n",
    "1 <= LOWLIMIT <= HIGHLIMIT <= 10s"
   ]
  },
  {
   "cell_type": "markdown",
   "id": "159d1147",
   "metadata": {},
   "source": [
    "# Example 1: \n",
    "\n",
    "Input: lowLimit = 1, highLimit = 10 \n",
    "\n",
    "Output: 2 \n",
    "\n",
    "Explanation: \n",
    "\n",
    "Box Number:  1 2 3 4 5 6 7 8 9 10 11 ... \n",
    "\n",
    "Ball Count:  2 1 1 1 1 1 1 1 1 0  0  ... \n",
    "\n",
    "Box 1 has the most number of balls with 2 balls. \n",
    "\n",
    "Example 2: \n",
    "\n",
    "Input: lowLimit = 5, highLimit = 15 \n",
    "\n",
    "Output: 2 \n",
    "\n",
    "Explanation: \n",
    "\n",
    "Box Number:  1 2 3 4 5 6 7 8 9 10 11 ... \n",
    "\n",
    "Ball Count:  1 1 1 1 2 2 1 1 1 0  0  ... \n",
    "\n",
    "Boxes 5 and 6 have the most number of balls with 2 balls in each. \n",
    " \n",
    "\n",
    "Example 3: \n",
    "\n",
    "Input: lowLimit = 19, highLimit = 28 \n",
    "\n",
    "Output: 2 \n",
    "\n",
    "Explanation: \n",
    "\n",
    "Box Number:  1 2 3 4 5 6 7 8 9 10 11 12 ... \n",
    "\n",
    "Ball Count:  0 1 1 1 1 1 1 1 1 2  0  0  ... \n",
    "\n",
    "Box 10 has the most number of balls with 2 balls"
   ]
  },
  {
   "cell_type": "markdown",
   "id": "017ceb1f",
   "metadata": {},
   "source": [
    "##### Since highLimit <= 10^5, the sum of digits of each number is at most 46(99999 = 9+9+9+9+9 = 45 , safe side 46). Create an array sums where sums[i] is the number of balls that have sum of digits equal to i. Loop over all numbers from lowLimit to highLimit. For each number, calculate the sum of digits and update the array. Finally, loop over the array and obtain the maximum count."
   ]
  },
  {
   "cell_type": "code",
   "execution_count": 5,
   "id": "b8510fbb",
   "metadata": {},
   "outputs": [
    {
     "name": "stdout",
     "output_type": "stream",
     "text": [
      "HIGHLIMIT : 28\n",
      "LOWLIMIT : 19\n"
     ]
    }
   ],
   "source": [
    "HL = int(input(\"HIGHLIMIT : \"))\n",
    "LL = int(input(\"LOWLIMIT : \"))\n",
    "\n",
    "def calculate_sum(i) :       #sum of digit\n",
    "    dict1 = {}\n",
    "    for ball_num in range(LL, HL + 1):\n",
    "        box_number = 0\n",
    "        while i != 0 :\n",
    "            rem = i % 10\n",
    "            box_number = box_number + rem\n",
    "            i = i//10\n",
    "        box_number = calculate_sum(i)\n",
    "        if box_num not in dict1 :\n",
    "            dict1[box_num] = 1\n",
    "        else :\n",
    "            dict1[box_num] = dict1[box_num] + 1\n",
    "    return box_number\n",
    "\n"
   ]
  },
  {
   "cell_type": "code",
   "execution_count": 9,
   "id": "90fdd8f2",
   "metadata": {},
   "outputs": [
    {
     "name": "stdout",
     "output_type": "stream",
     "text": [
      "28\n",
      "19\n"
     ]
    }
   ],
   "source": [
    "def cal_sum(i):\n",
    "    sum1 = 0\n",
    "    while i!= 0:\n",
    "        rem = i% 10\n",
    "        sum = sum +rem\n",
    "        i = i//10\n",
    "        return sum1\n",
    "\n",
    "low = int(input())\n",
    "high = int(input())\n",
    "\n",
    "dict1 = {}\n",
    "\n",
    "for i in range(low, high +1):\n",
    "  box_no = cal_sum(i)\n",
    "  if box_num not in dict1.keys():\n",
    "    dict1[box_no] = 1\n",
    "  else:\n",
    "    dict1[box_no] = dict1[box_no]+1"
   ]
  },
  {
   "cell_type": "code",
   "execution_count": null,
   "id": "de2720e9",
   "metadata": {},
   "outputs": [],
   "source": [
    "def solve(l, r):\n",
    "   dict={}\n",
    "   for i in range(l, r+1):\n",
    "      total=0\n",
    "      for j in str(i):\n",
    "         total += int(j)\n",
    "      if(total not in dict):\n",
    "         dict[total] = 0\n",
    "      dict[total] += 1\n",
    "   return max([dict[i] for i in dict])\n",
    "\n",
    "l = 15\n",
    "r = 25\n",
    "print(solve(l, r))"
   ]
  },
  {
   "cell_type": "code",
   "execution_count": 49,
   "id": "212feaea",
   "metadata": {},
   "outputs": [
    {
     "name": "stdout",
     "output_type": "stream",
     "text": [
      "HIGHLIMIT : 28\n",
      "LOWLIMIT : 19\n",
      "Box 10 has the most number of balls with 2 balls.\n"
     ]
    }
   ],
   "source": [
    "HL = int(input(\"HIGHLIMIT : \"))\n",
    "LL = int(input(\"LOWLIMIT : \"))\n",
    "n = HL - LL + 1  #number of balls\n",
    "#Box are from 1 to infinity\n",
    "ball_count = [0] * 46                                    # Creating list of ball count\n",
    "for ball_num in range(LL, HL + 1):\n",
    "            box = 0\n",
    "            while ball_num:\n",
    "                box += ball_num % 10                     #box = box + ball_num % 10   \n",
    "                ball_num //= 10                          #ball_num = ball_num//10\n",
    "            ball_count[box] += 1                         # ball_count[box] = ball_count[box] + 1  can go max upto 46\n",
    "            \n",
    "print(f\"Box {box} has the most number of balls with {max(ball_count)} balls.\")\n",
    "# print(ball_count)\n",
    "# print(box)\n",
    "# print(max(ball_count))\n",
    "# print(cnt)\n",
    "# print(max(cnt))"
   ]
  },
  {
   "cell_type": "code",
   "execution_count": 1,
   "id": "ebdf62ee",
   "metadata": {},
   "outputs": [
    {
     "name": "stdout",
     "output_type": "stream",
     "text": [
      "HIGHLIMIT :10\n",
      "LOWLIMIT :1\n",
      "1\n",
      "2\n",
      "3\n",
      "4\n",
      "5\n",
      "6\n",
      "7\n",
      "8\n",
      "9\n"
     ]
    }
   ],
   "source": [
    "#number of balls = n = HL - LL +1\n",
    "#Number of boxes = 1 to infinity\n",
    "HL = int(input(\"HIGHLIMIT :\"))\n",
    "LL = int(input(\"LOWLIMIT :\"))\n",
    "n = HL - LL + 1 \n",
    "for i in range(1,n):\n",
    "    print(i)\n"
   ]
  },
  {
   "cell_type": "code",
   "execution_count": 43,
   "id": "a7364091",
   "metadata": {},
   "outputs": [],
   "source": [
    "import numpy as np"
   ]
  },
  {
   "cell_type": "markdown",
   "id": "2d681390",
   "metadata": {},
   "source": [
    "# Q 5 ) You are given a positive integer num consisting only of digits 6 and 9.  Return the maximum number you can get by changing at most one digit (6 becomes 9, and 9 becomes 6).   #1323 "
   ]
  },
  {
   "cell_type": "markdown",
   "id": "20fd8ae1",
   "metadata": {},
   "source": [
    "##### Constraints: \n",
    "\n",
    "1 <= num <= 104 \n",
    "\n",
    "num consists of only 6 and 9 digits. "
   ]
  },
  {
   "cell_type": "markdown",
   "id": "0b012ab8",
   "metadata": {},
   "source": [
    "Example 1: \n",
    "\n",
    "Input: num = 9669 \n",
    "\n",
    "Output: 9969 \n",
    "\n",
    "Explanation:  \n",
    "\n",
    "Changing the first digit results in 6669. \n",
    "\n",
    "Changing the second digit results in 9969. \n",
    "\n",
    "Changing the third digit results in 9699. \n",
    "\n",
    "Changing the fourth digit results in 9666. \n",
    "\n",
    "The maximum number is 9969. \n",
    " \n",
    "\n",
    "Example 2: \n",
    "\n",
    "Input: num = 9996 \n",
    "\n",
    "Output: 9999 \n",
    "\n",
    "Explanation: Changing the last digit 6 to 9 results in the maximum number. \n",
    " \n",
    "\n",
    "Example 3: \n",
    "\n",
    "Input: num = 9999 \n",
    "\n",
    "Output: 9999 \n",
    "\n",
    "Explanation: It is better not to apply any change. \n"
   ]
  },
  {
   "cell_type": "code",
   "execution_count": 1,
   "id": "b7a6d9ca",
   "metadata": {},
   "outputs": [
    {
     "name": "stdout",
     "output_type": "stream",
     "text": [
      "9996\n",
      "9999\n"
     ]
    }
   ],
   "source": [
    "n = input()\n",
    "ans =\"\"\n",
    "flag = 0\n",
    "for digit in n :\n",
    "    if digit == '6' and flag == 0 :\n",
    "        ans = ans + '9'\n",
    "        flag = 1\n",
    "    else :\n",
    "        ans = ans + digit\n",
    "print(ans)"
   ]
  },
  {
   "cell_type": "markdown",
   "id": "e87b2868",
   "metadata": {},
   "source": [
    "# Q 6 ) Given two positive integers a and b, return the number of common factors of a and b. An integer x is a common factor of a and b if x divides both a and b. #2427"
   ]
  },
  {
   "cell_type": "markdown",
   "id": "d183ab8e",
   "metadata": {},
   "source": [
    "##### Constraints: \n",
    "\n",
    "1 <= a, b <= 1000 "
   ]
  },
  {
   "cell_type": "markdown",
   "id": "fb57e886",
   "metadata": {},
   "source": [
    "Example 1: \n",
    "\n",
    "Input: a = 12, b = 6 \n",
    "\n",
    "Output: 4 \n",
    "\n",
    "Explanation: The common factors of 12 and 6 are 1, 2, 3, 6. \n",
    " \n",
    "\n",
    "Example 2: \n",
    "\n",
    "Input: a = 25, b = 30 \n",
    "\n",
    "Output: 2 \n",
    "\n",
    "Explanation: The common factors of 25 and 30 are 1, 5. \n"
   ]
  },
  {
   "cell_type": "code",
   "execution_count": 71,
   "id": "3fef2465",
   "metadata": {},
   "outputs": [
    {
     "name": "stdout",
     "output_type": "stream",
     "text": [
      "Enter the integer for which you want multiple :12\n",
      "[1, 2, 3, 4, 6, 12]\n",
      "**************************************************\n",
      "Enter the integer for which you want multiple :6\n",
      "[1, 2, 3, 6]\n",
      "**************************************************\n",
      "4\n"
     ]
    }
   ],
   "source": [
    "a = int(input(\"Enter the integer for which you want multiple :\" ))\n",
    "list_a = [i for i in range(1 ,a + 1) if a%i == 0]\n",
    "# for i in range(1, a+1) :\n",
    "#     if a%i == 0 :\n",
    "#         list_a.append(i)\n",
    "# print(list_a)\n",
    "# print('*'*50)\n",
    "b = int(input(\"Enter the integer for which you want multiple :\" ))\n",
    "list_b = [i for i in range(1 , b + 1) if b%i == 0]\n",
    "# for i in range(1, b+1) :\n",
    "#     if b%i == 0 :\n",
    "#         list_b.append(i)\n",
    "# print(list_b)\n",
    "# print('*'*50)\n",
    "com_fac =[]\n",
    "for i in list_a:\n",
    "    if i in list_b:\n",
    "        com_fac.append(i)\n",
    "print(len(com_fac))\n",
    "# print(f\"This many multiple of 5 for given number {n} are :\" , l)"
   ]
  },
  {
   "cell_type": "code",
   "execution_count": 76,
   "id": "56f868e5",
   "metadata": {},
   "outputs": [
    {
     "name": "stdout",
     "output_type": "stream",
     "text": [
      "Enter the integer for which you want multiple :25\n",
      "Enter the integer for which you want multiple :30\n",
      "Number count of common factors of 25 and 30 : 2\n",
      "Common factors between 25 and 30 are :  [1, 5]\n"
     ]
    }
   ],
   "source": [
    "a = int(input(\"Enter the integer for which you want multiple :\" ))\n",
    "list_a = [i for i in range(1 ,a + 1) if a%i == 0]\n",
    "b = int(input(\"Enter the integer for which you want multiple :\" ))\n",
    "list_b = [i for i in range(1 , b + 1) if b%i == 0]\n",
    "com_fac =[]\n",
    "for i in list_a:\n",
    "    if i in list_b:\n",
    "        com_fac.append(i)\n",
    "print(f\"Number count of common factors of {a} and {b} :\", len(com_fac))\n",
    "print(f\"Common factors between {a} and {b} are : \", com_fac )"
   ]
  },
  {
   "cell_type": "code",
   "execution_count": 2,
   "id": "5d8f46b1",
   "metadata": {},
   "outputs": [
    {
     "name": "stdout",
     "output_type": "stream",
     "text": [
      "12\n",
      "6\n",
      "1\n",
      "2\n",
      "3\n",
      "6\n"
     ]
    }
   ],
   "source": [
    "a = int(input())\n",
    "b = int(input())\n",
    "for i in range(1,min(a,b)+1):\n",
    "    if a%i == 0 and b%i == 0:\n",
    "        print(i)"
   ]
  },
  {
   "cell_type": "code",
   "execution_count": 3,
   "id": "526c2694",
   "metadata": {},
   "outputs": [
    {
     "name": "stdout",
     "output_type": "stream",
     "text": [
      "12\n",
      "6\n",
      "4\n"
     ]
    }
   ],
   "source": [
    "a = int(input())\n",
    "b = int(input())\n",
    "count = 0\n",
    "for i in range(1,min(a,b)+1):\n",
    "    if a%i == 0 and b%i == 0:\n",
    "        count+=1\n",
    "print(count)"
   ]
  },
  {
   "cell_type": "markdown",
   "id": "56303d5d",
   "metadata": {},
   "source": [
    "# Q 7 ) Given an integer array nums, return an array answer such that answer[i] is equal to the product of all the elements of nums except nums[i]. The product of any prefix or suffix of nums is guaranteed to fit in a 32-bit integer. You must write an algorithm that runs in O(n) time and without using the division operation. #238\n",
    "\n",
    "  "
   ]
  },
  {
   "cell_type": "markdown",
   "id": "76989b91",
   "metadata": {},
   "source": [
    "##### Constraints: \n",
    "\n",
    "#2 <= nums.length <= 105 \n",
    "\n",
    "#-30 <= nums[i] <= 30 \n",
    "\n",
    "#The product of any prefix or suffix of nums is guaranteed to fit in a 32-bit integer. "
   ]
  },
  {
   "cell_type": "markdown",
   "id": "2c89e9d3",
   "metadata": {},
   "source": [
    "##### Follow up: Can you solve the problem in O(1) extra space complexity? (The output array does not count as extra space for space complexity analysis.) "
   ]
  },
  {
   "cell_type": "markdown",
   "id": "e390c1fe",
   "metadata": {},
   "source": [
    "Example 1: \n",
    "\n",
    "Input: nums = [1,2,3,4] \n",
    "\n",
    "Output: [24,12,8,6] \n",
    " \n",
    "\n",
    "Example 2: \n",
    "\n",
    "Input: nums = [-1,1,0,-3,3] \n",
    "\n",
    "Output: [0,0,9,0,0] "
   ]
  },
  {
   "cell_type": "code",
   "execution_count": 5,
   "id": "617ba43e",
   "metadata": {},
   "outputs": [
    {
     "name": "stdout",
     "output_type": "stream",
     "text": [
      "[0, 0, 9, 0, 0]\n"
     ]
    }
   ],
   "source": [
    "a = [-1,1,0,-3,3]\n",
    "prod = 1\n",
    "for i in a:\n",
    "    if i == 0 :\n",
    "        ...\n",
    "    else :\n",
    "        prod = prod *i\n",
    "# print(prod)\n",
    "\n",
    "ans = []\n",
    "for i in a:\n",
    "    if i == 0 :\n",
    "        ans.append(prod)\n",
    "    else :\n",
    "        ans.append(prod%i)\n",
    "\n",
    "print(ans)"
   ]
  },
  {
   "cell_type": "code",
   "execution_count": null,
   "id": "faef8e01",
   "metadata": {},
   "outputs": [],
   "source": []
  },
  {
   "cell_type": "code",
   "execution_count": 9,
   "id": "623a3ee2",
   "metadata": {},
   "outputs": [
    {
     "name": "stdout",
     "output_type": "stream",
     "text": [
      "[-9, 9, 9, 3, -3]\n"
     ]
    }
   ],
   "source": [
    "a = [-1,1,0,3,-3]          #✅\n",
    "# a = [1,2,3,4]\n",
    "prod = 1\n",
    "for i in a:\n",
    "    if i == 0 :\n",
    "        ...\n",
    "    else :\n",
    "        prod = prod *i\n",
    "\n",
    "ans = []\n",
    "for i in a:\n",
    "    if i == 0 :\n",
    "        ans.append(prod)\n",
    "#         if i != 0 :\n",
    "#             ans.append(prod//i)\n",
    "#             break\n",
    "    else :\n",
    "        ans.append(prod//i)\n",
    "\n",
    "print(ans)"
   ]
  },
  {
   "cell_type": "code",
   "execution_count": 8,
   "id": "4b66efc2",
   "metadata": {},
   "outputs": [
    {
     "name": "stdout",
     "output_type": "stream",
     "text": [
      "[24, 12, 8, 6]\n"
     ]
    }
   ],
   "source": [
    "# a = [-1,1,0,3,-3]\n",
    "a = [1,2,3,4]              #✅\n",
    "prod = 1\n",
    "for i in a:\n",
    "    if i == 0 :\n",
    "        ...\n",
    "    else :\n",
    "        prod = prod *i\n",
    "\n",
    "ans = []\n",
    "for i in a:\n",
    "    if i == 0 :\n",
    "        ans.append(prod)\n",
    "#         if i != 0 :\n",
    "#             ans.append(prod//i)\n",
    "#             break\n",
    "    else :\n",
    "        ans.append(prod//i)\n",
    "\n",
    "print(ans)"
   ]
  },
  {
   "cell_type": "code",
   "execution_count": 7,
   "id": "8cbb4f11",
   "metadata": {},
   "outputs": [
    {
     "name": "stdout",
     "output_type": "stream",
     "text": [
      "[1, 1, 2, 6]\n"
     ]
    }
   ],
   "source": [
    "a = [1,2,3,4]\n",
    "prod = 1 \n",
    "ans = []\n",
    "for i in a:\n",
    "    if i != 0 :\n",
    "        prod = prod*i\n",
    "        ans.append(prod//i)\n",
    "    else :\n",
    "        ans.append(prod)\n",
    "print(ans)"
   ]
  },
  {
   "cell_type": "code",
   "execution_count": 4,
   "id": "d1523bad",
   "metadata": {},
   "outputs": [
    {
     "name": "stdout",
     "output_type": "stream",
     "text": [
      "[-12, 12, 36, 18, -18]\n"
     ]
    }
   ],
   "source": [
    "# a = [1,2,3,4]\n",
    "a = [-3,3,0,2,-2]\n",
    "prod = 1\n",
    "for i in a:\n",
    "    if i == 0 :\n",
    "        ...\n",
    "    else :\n",
    "        prod = prod *i\n",
    "\n",
    "ans = []\n",
    "for i in a:\n",
    "    if i == 0 :\n",
    "        ans.append(prod)\n",
    "    elif i != 0 :\n",
    "        ans.append(prod//i)\n",
    "    \n",
    "\n",
    "print(ans)"
   ]
  },
  {
   "cell_type": "code",
   "execution_count": null,
   "id": "fd68c6ed",
   "metadata": {},
   "outputs": [],
   "source": [
    "prod = 1\n",
    "print(nums)\u000b",
    "\n",
    "for i in nums:\u000b",
    "\n",
    "    prod*=i\u000b",
    "\n",
    "    l=[prod]*len(nums)\u000b",
    "\n",
    "    for i in range(len(nums)):\u000b",
    "\n",
    "        l[i]=l[i]//nums[i]"
   ]
  },
  {
   "cell_type": "markdown",
   "id": "60feee72",
   "metadata": {},
   "source": [
    "# Q 8 ) Count the frequency of char in given string and point max occuring character ?   #1297"
   ]
  },
  {
   "cell_type": "code",
   "execution_count": 11,
   "id": "73bb826e",
   "metadata": {},
   "outputs": [
    {
     "name": "stdout",
     "output_type": "stream",
     "text": [
      "djfhdsjfhasd;fh;dlfdskl;fdjsf\n",
      "d\n"
     ]
    }
   ],
   "source": [
    "s =input()\n",
    "dict1 = {}\n",
    "max_count = 0\n",
    "max_char = ''\n",
    "for char in s:\n",
    "    if char not in dict1 :\n",
    "        dict1[char] = 1\n",
    "    else :\n",
    "        dict1[char] = dict1[char] + 1\n",
    "for key,value in dict1.items():\n",
    "    if value>max_count :\n",
    "        max_count = value\n",
    "        max_char = key\n",
    "print(max_char)"
   ]
  },
  {
   "cell_type": "code",
   "execution_count": 12,
   "id": "5e5279a2",
   "metadata": {},
   "outputs": [
    {
     "name": "stdout",
     "output_type": "stream",
     "text": [
      "a\n"
     ]
    }
   ],
   "source": [
    "s ='aabcdefaa'\n",
    "dict1 = {}\n",
    "max_count = 0\n",
    "max_char = ''\n",
    "for char in s:\n",
    "    if char not in dict1 :\n",
    "        dict1[char] = 1\n",
    "    else :\n",
    "        dict1[char] = dict1[char] + 1\n",
    "for key,value in dict1.items():\n",
    "    if value>max_count :\n",
    "        max_count = value\n",
    "        max_char = key\n",
    "print(max_char)"
   ]
  },
  {
   "cell_type": "markdown",
   "id": "2b30e2c0",
   "metadata": {},
   "source": [
    "# Q 9 ) Determine and print the character with the highest frequency in a given string. If multiple characters share the same highest frequency, choose the smallest one according to their ASCII values.\n"
   ]
  },
  {
   "cell_type": "markdown",
   "id": "1944f795",
   "metadata": {},
   "source": [
    "\n",
    "Examples:\n",
    "\n",
    "Input: \"banana\" Output: 'a' Explanation: In the string \"banana,\" 'a' appears the most frequently (3 times), and it is the smallest character among the characters with the highest frequency.\n",
    "\n",
    "Input: \"apple\" Output: 'p' Explanation: In the string \"apple,\" both 'p' and 'l' appear with the same highest frequency (2 times), but 'p' is the smallest character among them according to ASCII values.\n",
    "\n",
    "Input: \"racecarr” Output: 'r' Explanation: In the string \"racecar,\" 'r' is the character that appears the most frequently (3 times), making it the result.\n",
    "\n",
    "Input: \"aaabbbccc\" Output: 'a' Explanation: In the string \"aabbbccc,\" 'a,' 'b,' and 'c' all appear with the same highest frequency (3 times each), but 'a' is the smallest character among them based on ASCII values.\n",
    "\n"
   ]
  },
  {
   "cell_type": "code",
   "execution_count": 1,
   "id": "a4f7f3da",
   "metadata": {},
   "outputs": [
    {
     "name": "stdout",
     "output_type": "stream",
     "text": [
      "Enter the String: ccbbbaaa\n",
      "Given String is : ccbbbaaa\n",
      "Each Character Frequency of the given string : {'c': 2, 'b': 3, 'a': 3}\n",
      "Max. frequency Character is : a\n"
     ]
    }
   ],
   "source": [
    "string = input(\"Enter the String: \")\n",
    "print(f\"Given String is : {string}\")\n",
    "char_count = {}\n",
    "\n",
    "for char in string:\n",
    "        if char in char_count:\n",
    "            char_count[char] = char_count[char] + 1\n",
    "        else:\n",
    "            char_count[char] = 1\n",
    "\n",
    "print(f\"Each Character Frequency of the given string : {char_count}\")\n",
    "max_count = 0\n",
    "max_char = \"\"\n",
    "\n",
    "for key,value in char_count.items():\n",
    "    if value > max_count:\n",
    "        max_count = value\n",
    "        max_char = key\n",
    "\n",
    "    elif value == max_count  and ord(key) < ord(max_char):\n",
    "        max_char = key\n",
    "print(f\"Max. frequency Character is : {max_char}\")"
   ]
  },
  {
   "cell_type": "code",
   "execution_count": 103,
   "id": "2f03bea0",
   "metadata": {},
   "outputs": [
    {
     "name": "stdout",
     "output_type": "stream",
     "text": [
      "a\n"
     ]
    }
   ],
   "source": [
    "s='cccbbbaaa'\n",
    "d={}\n",
    "max_value=0\n",
    "max_char=''\n",
    "l =[]\n",
    "min_ascii = 9999\n",
    "flag = 0\n",
    "\n",
    "for i in s:\n",
    "    if i in d.keys():\n",
    "        d[i]=d[i]+1 \n",
    "    else:\n",
    "        d[i]=1 \n",
    "for key,value in d.items():\n",
    "    if value>max_value:\n",
    "        max_value=value \n",
    "        max_char=key\n",
    "        \n",
    "for i,j in d.items():\n",
    "    if j == max_value:\n",
    "        l.append(i)\n",
    "        \n",
    "for i in l :\n",
    "    if ord(i) < min_ascii :\n",
    "        min_ascii = ord(i)\n",
    "print(chr(min_ascii))\n",
    "        \n",
    "\n",
    "# print(\"Frequently occured character in given string is: \",max_char)"
   ]
  },
  {
   "cell_type": "code",
   "execution_count": 19,
   "id": "9310c1cc",
   "metadata": {},
   "outputs": [
    {
     "name": "stdout",
     "output_type": "stream",
     "text": [
      "abcabc\n",
      "{'a': 2, 'b': 2, 'c': 2}\n"
     ]
    }
   ],
   "source": [
    "a = input()\n",
    "max_char = ''\n",
    "max_count = 0\n",
    "dict1 = {}\n",
    "for i in a:\n",
    "    if i in dict1.keys():\n",
    "        dict1[i]=dict1[i]+1 \n",
    "    else:\n",
    "        dict1[i]=1 \n",
    "print(dict1)\n"
   ]
  },
  {
   "cell_type": "code",
   "execution_count": 84,
   "id": "fe1181e1",
   "metadata": {},
   "outputs": [
    {
     "name": "stdout",
     "output_type": "stream",
     "text": [
      "97\n",
      "97\n",
      "['c', 'b']\n",
      "{'a': 3, 'c': 3, 'b': 3}\n"
     ]
    }
   ],
   "source": [
    "s='aaacccbbb'\n",
    "# s ='prrqq'\n",
    "d={}\n",
    "max_value=0\n",
    "max_char=''\n",
    "min_ascii = -9999\n",
    "min_ascii_char =''\n",
    "flag= 0\n",
    "l =[]\n",
    "\n",
    "for i in s:\n",
    "    if i in d.keys():\n",
    "        d[i]=d[i]+1 \n",
    "    else:\n",
    "        d[i]=1 \n",
    "for key,value in d.items():\n",
    "    if value>max_value:\n",
    "        max_value=value \n",
    "        max_char=key\n",
    "# for key,value in d.items():\n",
    "#     if value == max_value :\n",
    "#         l.append(key)\n",
    "# print(max_char)\n",
    "# print(max_value)\n",
    "# print(l)\n",
    "    elif value == max_value:\n",
    "        for i in d.keys() :\n",
    "            if ord(i)>min_ascii:\n",
    "                print(ord(i))\n",
    "                flag = 1\n",
    "                break\n",
    "        l.append(key)\n",
    "print(l)\n",
    "print(d)\n",
    "\n",
    "        \n",
    "#         for i in d.keys():\n",
    "#             if d[i] == max_value:\n",
    "#                 if d[i] > min_ascii:\n",
    "# #             if ord(i) > min_ascii :\n",
    "#                     print(chr(ord(i)))\n",
    "#                     break\n",
    "#         break\n",
    "# print(max_value)\n"
   ]
  },
  {
   "cell_type": "code",
   "execution_count": 88,
   "id": "571b4cba",
   "metadata": {},
   "outputs": [
    {
     "name": "stdout",
     "output_type": "stream",
     "text": [
      "{'a': 2, 'b': 2, 'c': 2}\n",
      "a\n"
     ]
    }
   ],
   "source": [
    "s='aabbcc'\n",
    "l = list(s)\n",
    "# print(l)\n",
    "d = {}\n",
    "for i in s:\n",
    "    if i in d.keys():\n",
    "        d[i]=d[i]+1 \n",
    "    else:\n",
    "        d[i]=1 \n",
    "print(d)\n",
    "for key,value in d.items():\n",
    "    if value>max_value:\n",
    "        max_value=value \n",
    "        max_char=key\n",
    "print(max_char)\n",
    "print()"
   ]
  },
  {
   "cell_type": "code",
   "execution_count": 16,
   "id": "b1a64775",
   "metadata": {},
   "outputs": [
    {
     "data": {
      "text/plain": [
       "97"
      ]
     },
     "execution_count": 16,
     "metadata": {},
     "output_type": "execute_result"
    }
   ],
   "source": [
    "ord('a')"
   ]
  },
  {
   "cell_type": "code",
   "execution_count": 78,
   "id": "c1deb473",
   "metadata": {},
   "outputs": [
    {
     "name": "stdout",
     "output_type": "stream",
     "text": [
      "\n"
     ]
    }
   ],
   "source": [
    "s='cccbbbaaa'\n",
    "d={}\n",
    "max_value=0\n",
    "max_char=''\n",
    "s = {}\n",
    "\n",
    "for i in s:\n",
    "    if i in d.keys():\n",
    "        d[i]=d[i]+1 \n",
    "    else:\n",
    "        d[i]=1 \n",
    "for key,value in d.items():\n",
    "    if value>max_value:\n",
    "        max_value=value \n",
    "        max_char=key\n",
    "#     elif value == max_value :\n",
    "#         s[key] = value\n",
    "        \n",
    "# print(s)\n",
    "# print(max_value)\n",
    "# # print(d)\n",
    "# print(max_value)\n",
    "print(max_char)\n",
    "# # print(\"Frequently occured character in given string is: \",max_char)"
   ]
  },
  {
   "cell_type": "code",
   "execution_count": null,
   "id": "06adffbd",
   "metadata": {},
   "outputs": [],
   "source": []
  },
  {
   "cell_type": "code",
   "execution_count": 77,
   "id": "21cfb2c7",
   "metadata": {},
   "outputs": [
    {
     "name": "stdout",
     "output_type": "stream",
     "text": [
      "b\n",
      "\n"
     ]
    }
   ],
   "source": [
    "s='bbaacc'\n",
    "d={}\n",
    "max_value=0\n",
    "max_char=''\n",
    "min_ascii = -9999\n",
    "max_char_min_ascii = ''\n",
    "flag = 0\n",
    "s ={}\n",
    "\n",
    "for i in s:\n",
    "    if i in d.keys():\n",
    "        d[i]=d[i]+1 \n",
    "    else:\n",
    "        d[i]=1 \n",
    "for key,value in d.items():\n",
    "    if value>max_value:\n",
    "        max_value=value \n",
    "        max_char=key\n",
    "#         print(key)\n",
    "\n",
    "#     elif value == max_value :\n",
    "#         s[key] = value\n",
    "#         if  ord(key) < min_ascii:\n",
    "#             print(key)\n",
    "#             flag = 1\n",
    "#             break\n",
    "            \n",
    "print(key)\n",
    "print(max_char)\n",
    "# print(s)\n",
    "#         print('ok')\n",
    "#         if ord(key) < min_ascii :\n",
    "#             print(ord(key))\n",
    "#             max_char_min_ascii = key\n",
    "#             flag = 1\n",
    "#         print(key)\n",
    "            \n",
    "# print(max_char_min_ascii)\n",
    "            \n",
    "        \n",
    "        \n",
    "\n",
    "# print(\"Frequently occured character in given string is: \",max_char)"
   ]
  },
  {
   "cell_type": "code",
   "execution_count": 34,
   "id": "34b959f0",
   "metadata": {},
   "outputs": [
    {
     "name": "stdout",
     "output_type": "stream",
     "text": [
      "['a', 'a', 'a', 'b', 'b', 'b', 'c', 'c', 'c']\n"
     ]
    }
   ],
   "source": [
    "s = 'aaacccbbb'\n",
    "a = sorted(s)\n",
    "print(a)"
   ]
  }
 ],
 "metadata": {
  "kernelspec": {
   "display_name": "Python 3 (ipykernel)",
   "language": "python",
   "name": "python3"
  },
  "language_info": {
   "codemirror_mode": {
    "name": "ipython",
    "version": 3
   },
   "file_extension": ".py",
   "mimetype": "text/x-python",
   "name": "python",
   "nbconvert_exporter": "python",
   "pygments_lexer": "ipython3",
   "version": "3.11.4"
  }
 },
 "nbformat": 4,
 "nbformat_minor": 5
}
