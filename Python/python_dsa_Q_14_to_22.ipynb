{
 "cells": [
  {
   "cell_type": "markdown",
   "id": "b4ec8066",
   "metadata": {},
   "source": [
    "# Pranav Bhawsar"
   ]
  },
  {
   "cell_type": "markdown",
   "id": "54ca959a",
   "metadata": {},
   "source": [
    "##### Q 14 ) Given a Paragraph of text , Count the frequency of each word & store it in a dictionary !"
   ]
  },
  {
   "cell_type": "code",
   "execution_count": 3,
   "id": "aa0a837c",
   "metadata": {},
   "outputs": [
    {
     "name": "stdout",
     "output_type": "stream",
     "text": [
      "{'The': 1, 'UPSC': 1, 'conducts': 1, 'various': 2, 'examinations': 1, 'in': 2, 'accordance': 1, 'with': 1, 'the': 3, 'Rules': 1, 'of': 5, 'examination': 1, 'as': 1, 'notified': 1, 'by': 1, 'Government': 1, 'India': 1, 'a': 2, 'just,': 1, 'fair': 1, 'and': 3, 'impartial': 1, 'manner': 1, 'for': 2, 'making': 1, 'merit': 1, 'based': 1, 'selection': 1, 'recommendation': 1, 'candidates': 1, 'Group': 2, 'A': 1, 'B': 1, 'Services': 1, 'Govt': 1, 'India.': 1}\n"
     ]
    }
   ],
   "source": [
    "para = \"The UPSC conducts various examinations in accordance with the Rules of examination as notified by the Government of India in a just, fair and impartial manner for making a merit based selection and recommendation of candidates for various Group A and Group B Services of the Govt of India.\"\n",
    "split_para = para.split()\n",
    "ans = {}\n",
    "for i in range(0,len(split_para)):\n",
    "    ans[split_para[i]] = split_para.count(split_para[i])\n",
    "\n",
    "print(ans)"
   ]
  },
  {
   "cell_type": "markdown",
   "id": "9579b3f7",
   "metadata": {},
   "source": [
    "##### Q 15 ) Create a program that counts how many times a specific number is appears in a list ?"
   ]
  },
  {
   "cell_type": "code",
   "execution_count": 4,
   "id": "392c65ac",
   "metadata": {},
   "outputs": [
    {
     "name": "stdout",
     "output_type": "stream",
     "text": [
      "5,6,8,7,99,4,5,6,7,89,56,8\n",
      "[5, 6, 8, 7, 99, 4, 5, 6, 7, 89, 56, 8]\n",
      "{5: 2, 6: 2, 8: 2, 7: 2, 99: 1, 4: 1, 89: 1, 56: 1}\n"
     ]
    }
   ],
   "source": [
    "x = list(map(int,input().strip().split(',')))\n",
    "print(x)\n",
    "num_freq = {}                  #Declaring empty list\n",
    "for i in range(0,len(x)):\n",
    "    num_freq[x[i]] = x.count(x[i])\n",
    "print(num_freq)\n"
   ]
  },
  {
   "cell_type": "markdown",
   "id": "fe646765",
   "metadata": {},
   "source": [
    "##### Q 16 ) Write a function/Program that find the max & min value in a list of number ?"
   ]
  },
  {
   "cell_type": "code",
   "execution_count": 5,
   "id": "5120d715",
   "metadata": {},
   "outputs": [
    {
     "name": "stdout",
     "output_type": "stream",
     "text": [
      "5,6,8,9,4,6,2,8,6,3,88,112\n",
      "Max val : 112\n",
      "Min val : 2\n"
     ]
    }
   ],
   "source": [
    "\n",
    "x = list(map(int,input().strip().split(',')))\n",
    "x.sort()               #sort list in ascending order\n",
    "print(\"Max val :\" , x[len(x)-1])\n",
    "print(\"Min val :\" , x[0])"
   ]
  },
  {
   "cell_type": "markdown",
   "id": "998df1b1",
   "metadata": {},
   "source": [
    "##### Q 17 ) Create program that finds the average(Mean) of a list of numbers ?"
   ]
  },
  {
   "cell_type": "code",
   "execution_count": 6,
   "id": "eca17f2d",
   "metadata": {},
   "outputs": [
    {
     "name": "stdout",
     "output_type": "stream",
     "text": [
      "5,6,8,9,2,3,5,8,7\n",
      "the average(Mean) of a list of numbers :  5.888888888888889\n"
     ]
    }
   ],
   "source": [
    "x = list(map(int,input().strip().split(',')))\n",
    "sum_x = 0\n",
    "for i in x :\n",
    "    sum_x += i\n",
    "print(\"the average(Mean) of a list of numbers : \", sum_x/len(x))"
   ]
  },
  {
   "cell_type": "markdown",
   "id": "5eafe951",
   "metadata": {},
   "source": [
    "##### Q 18 ) How to take list as input from user ?"
   ]
  },
  {
   "cell_type": "markdown",
   "id": "3796f7e8",
   "metadata": {},
   "source": [
    "split() :- By Default SPACE is used as seperator operator .\n",
    "\n",
    "split(',') :- Divides string on the basis of , i.e. comma .\n",
    "\n",
    "#list(map(int,input().split(',')))"
   ]
  },
  {
   "cell_type": "code",
   "execution_count": 1,
   "id": "fbd850ca",
   "metadata": {},
   "outputs": [
    {
     "name": "stdout",
     "output_type": "stream",
     "text": [
      "5,6,8,9,55\n"
     ]
    }
   ],
   "source": [
    "x = list(map(int,input().split(',')))"
   ]
  },
  {
   "cell_type": "code",
   "execution_count": null,
   "id": "4fd794d8",
   "metadata": {},
   "outputs": [],
   "source": []
  },
  {
   "cell_type": "code",
   "execution_count": 2,
   "id": "0e6956c3",
   "metadata": {},
   "outputs": [
    {
     "data": {
      "text/plain": [
       "[5, 6, 8, 9, 55]"
      ]
     },
     "execution_count": 2,
     "metadata": {},
     "output_type": "execute_result"
    }
   ],
   "source": [
    "x"
   ]
  },
  {
   "cell_type": "code",
   "execution_count": 3,
   "id": "a7ec4e60",
   "metadata": {},
   "outputs": [
    {
     "name": "stdout",
     "output_type": "stream",
     "text": [
      "[5, 6, 8, 9, 55]\n"
     ]
    }
   ],
   "source": [
    "print(x)"
   ]
  },
  {
   "cell_type": "code",
   "execution_count": 4,
   "id": "4683de53",
   "metadata": {},
   "outputs": [
    {
     "name": "stdout",
     "output_type": "stream",
     "text": [
      "5,6,88,9,2\n",
      "[5, 6, 88, 9, 2]\n",
      "<class 'list'>\n"
     ]
    }
   ],
   "source": [
    "a = list(map(int,input().strip().split(\",\")))       \n",
    "#This will work for all digit only i.e. 1 to infinity , you just need to give input with comma separated\n",
    "print(a)\n",
    "print(type(a))"
   ]
  },
  {
   "cell_type": "code",
   "execution_count": 5,
   "id": "91f62e78",
   "metadata": {},
   "outputs": [
    {
     "name": "stdout",
     "output_type": "stream",
     "text": [
      "5,2,8,99\n"
     ]
    },
    {
     "ename": "ValueError",
     "evalue": "invalid literal for int() with base 10: ','",
     "output_type": "error",
     "traceback": [
      "\u001b[1;31m---------------------------------------------------------------------------\u001b[0m",
      "\u001b[1;31mValueError\u001b[0m                                Traceback (most recent call last)",
      "Cell \u001b[1;32mIn[5], line 1\u001b[0m\n\u001b[1;32m----> 1\u001b[0m \u001b[38;5;28mlist\u001b[39m(\u001b[38;5;28mint\u001b[39m(digit) \u001b[38;5;28;01mfor\u001b[39;00m digit \u001b[38;5;129;01min\u001b[39;00m (\u001b[38;5;28minput\u001b[39m()))\n",
      "Cell \u001b[1;32mIn[5], line 1\u001b[0m, in \u001b[0;36m<genexpr>\u001b[1;34m(.0)\u001b[0m\n\u001b[1;32m----> 1\u001b[0m \u001b[38;5;28mlist\u001b[39m(\u001b[38;5;28mint\u001b[39m(digit) \u001b[38;5;28;01mfor\u001b[39;00m digit \u001b[38;5;129;01min\u001b[39;00m (\u001b[38;5;28minput\u001b[39m()))\n",
      "\u001b[1;31mValueError\u001b[0m: invalid literal for int() with base 10: ','"
     ]
    }
   ],
   "source": [
    "list(int(digit) for digit in (input()))                 #This will work for single digit only i.e. 1 to 9 , not for 10+"
   ]
  },
  {
   "cell_type": "code",
   "execution_count": 7,
   "id": "b0eca87a",
   "metadata": {},
   "outputs": [
    {
     "name": "stdout",
     "output_type": "stream",
     "text": [
      "5678910\n"
     ]
    },
    {
     "data": {
      "text/plain": [
       "[5, 6, 7, 8, 9, 1, 0]"
      ]
     },
     "execution_count": 7,
     "metadata": {},
     "output_type": "execute_result"
    }
   ],
   "source": [
    "list(map(int,(input())))         #This will work for single digit only i.e. 1 to 9 , not for 10+"
   ]
  },
  {
   "cell_type": "markdown",
   "id": "9a4cd81d",
   "metadata": {},
   "source": [
    "##### Q 19 ) Given List of integrs OR take user input list . Find the maximum and minimum element of list ?"
   ]
  },
  {
   "cell_type": "code",
   "execution_count": 8,
   "id": "1e53946e",
   "metadata": {},
   "outputs": [
    {
     "name": "stdout",
     "output_type": "stream",
     "text": [
      "5,6,88,3,7\n",
      "88\n"
     ]
    }
   ],
   "source": [
    "#Maximum (largest element)\n",
    "x = list(map(int,input().strip().split(',')))\n",
    "x.sort()               #sort list in ascending order\n",
    "print(x[len(x)-1])"
   ]
  },
  {
   "cell_type": "code",
   "execution_count": 9,
   "id": "e9551c4b",
   "metadata": {},
   "outputs": [
    {
     "name": "stdout",
     "output_type": "stream",
     "text": [
      "5,9,88,777,1\n",
      "1\n"
     ]
    }
   ],
   "source": [
    "#Minimum (smallest element)\n",
    "x = list(map(int,input().strip().split(',')))\n",
    "x.sort()               #sort list in Ascending  order\n",
    "print(x[0])"
   ]
  },
  {
   "cell_type": "markdown",
   "id": "d22eba44",
   "metadata": {},
   "source": [
    "##### Q 20 ) Find the max and min , in a lsit (given/input) without using sort function."
   ]
  },
  {
   "cell_type": "code",
   "execution_count": 10,
   "id": "d61f8346",
   "metadata": {},
   "outputs": [
    {
     "name": "stdout",
     "output_type": "stream",
     "text": [
      "5,9,8,7,6,99,2\n",
      "99\n"
     ]
    }
   ],
   "source": [
    "#Maximum Value\n",
    "x = list(map(int,input().strip().split(',')))\n",
    "max_value = -9999          #Initialising\n",
    "for i in range(0,len(x)):\n",
    "    if x[i] > max_value :\n",
    "        max_value = x[i]\n",
    "print(max_value)"
   ]
  },
  {
   "cell_type": "code",
   "execution_count": 11,
   "id": "499bd7cb",
   "metadata": {},
   "outputs": [
    {
     "name": "stdout",
     "output_type": "stream",
     "text": [
      "6,8,9,77,6,44,2\n",
      "2\n"
     ]
    }
   ],
   "source": [
    "#minimum Value\n",
    "x = list(map(int,input().strip().split(',')))\n",
    "min_value = 10000          #Initialising\n",
    "for i in range(0,len(x)):\n",
    "    if x[i] >= 0 and x[i] <= min_value :\n",
    "        min_value = x[i]\n",
    "print(min_value)"
   ]
  },
  {
   "cell_type": "markdown",
   "id": "9df291d9",
   "metadata": {},
   "source": [
    "##### Q 21 ) Given / Input list of integers , tell the frequency of each number in the list ?"
   ]
  },
  {
   "cell_type": "code",
   "execution_count": 15,
   "id": "a2070bf8",
   "metadata": {},
   "outputs": [
    {
     "name": "stdout",
     "output_type": "stream",
     "text": [
      "5,6,8,9,5,6,8,9,5,5\n",
      "[5, 6, 8, 9, 5, 6, 8, 9, 5, 5]\n",
      "{5: 4, 6: 2, 8: 2, 9: 2}\n"
     ]
    }
   ],
   "source": [
    "x = list(map(int,input().strip().split(',')))\n",
    "print(x)\n",
    "num_freq = {}                  #Declaring empty list\n",
    "for i in range(0,len(x)):\n",
    "    num_freq[x[i]] = x.count(x[i])\n",
    "print(num_freq)\n"
   ]
  },
  {
   "cell_type": "code",
   "execution_count": 14,
   "id": "1c71ea73",
   "metadata": {},
   "outputs": [
    {
     "name": "stdout",
     "output_type": "stream",
     "text": [
      "5,6,8,9,7,5,6,8\n",
      "[5, 6, 8, 9, 7, 5, 6, 8]\n"
     ]
    },
    {
     "ename": "KeyError",
     "evalue": "5",
     "output_type": "error",
     "traceback": [
      "\u001b[1;31m---------------------------------------------------------------------------\u001b[0m",
      "\u001b[1;31mKeyError\u001b[0m                                  Traceback (most recent call last)",
      "Cell \u001b[1;32mIn[14], line 5\u001b[0m\n\u001b[0;32m      3\u001b[0m \u001b[38;5;28mprint\u001b[39m(x)\n\u001b[0;32m      4\u001b[0m \u001b[38;5;28;01mfor\u001b[39;00m i \u001b[38;5;129;01min\u001b[39;00m \u001b[38;5;28mrange\u001b[39m(\u001b[38;5;241m0\u001b[39m,\u001b[38;5;28mlen\u001b[39m(x)):\n\u001b[1;32m----> 5\u001b[0m     num_freq[x[i]] \u001b[38;5;241m=\u001b[39m num_freq[x[i]] \u001b[38;5;241m+\u001b[39m\u001b[38;5;241m1\u001b[39m\n\u001b[0;32m      6\u001b[0m \u001b[38;5;28mprint\u001b[39m(num_freq)\n",
      "\u001b[1;31mKeyError\u001b[0m: 5"
     ]
    }
   ],
   "source": [
    "num_freq = {}                  #Declaring empty dict\n",
    "x = list(map(int,input().strip().split(',')))\n",
    "print(x)\n",
    "for i in range(0,len(x)):\n",
    "    num_freq[x[i]] = num_freq[x[i]] +1\n",
    "print(num_freq)"
   ]
  },
  {
   "cell_type": "code",
   "execution_count": 13,
   "id": "568a3fb6",
   "metadata": {},
   "outputs": [
    {
     "name": "stdout",
     "output_type": "stream",
     "text": [
      "5,6,8,9,99,5,6,8\n",
      "[5, 6, 8, 9, 99, 5, 6, 8]\n"
     ]
    },
    {
     "ename": "KeyError",
     "evalue": "5",
     "output_type": "error",
     "traceback": [
      "\u001b[1;31m---------------------------------------------------------------------------\u001b[0m",
      "\u001b[1;31mKeyError\u001b[0m                                  Traceback (most recent call last)",
      "Cell \u001b[1;32mIn[13], line 5\u001b[0m\n\u001b[0;32m      3\u001b[0m num_freq \u001b[38;5;241m=\u001b[39m {}                  \u001b[38;5;66;03m#Declaring empty list\u001b[39;00m\n\u001b[0;32m      4\u001b[0m \u001b[38;5;28;01mfor\u001b[39;00m i \u001b[38;5;129;01min\u001b[39;00m x:\n\u001b[1;32m----> 5\u001b[0m     num_freq[i] \u001b[38;5;241m=\u001b[39m num_freq[i] \u001b[38;5;241m+\u001b[39m\u001b[38;5;241m1\u001b[39m\n\u001b[0;32m      6\u001b[0m \u001b[38;5;28mprint\u001b[39m(num_freq)\n",
      "\u001b[1;31mKeyError\u001b[0m: 5"
     ]
    }
   ],
   "source": [
    "x = list(map(int,input().strip().split(',')))\n",
    "print(x)\n",
    "num_freq = {}                  #Declaring empty list\n",
    "for i in x:\n",
    "    num_freq[i] = num_freq[i] +1\n",
    "print(num_freq)"
   ]
  },
  {
   "cell_type": "markdown",
   "id": "28b94cd7",
   "metadata": {},
   "source": [
    "##### Q 22 ) Print frequency of each string ?"
   ]
  },
  {
   "cell_type": "code",
   "execution_count": 16,
   "id": "20e91b64",
   "metadata": {},
   "outputs": [
    {
     "name": "stdout",
     "output_type": "stream",
     "text": [
      "{'India': 2, 'wins': 1, 'WC': 2, '2023': 1}\n"
     ]
    }
   ],
   "source": [
    "x = ['India' , 'wins' , 'WC' , '2023' , 'India' , 'WC']\n",
    "ans = {}\n",
    "for i in range(0,len(x)):\n",
    "    ans[x[i]] = x.count(x[i])\n",
    "\n",
    "print(ans)"
   ]
  },
  {
   "cell_type": "code",
   "execution_count": 17,
   "id": "4248e466",
   "metadata": {},
   "outputs": [
    {
     "ename": "KeyError",
     "evalue": "'India'",
     "output_type": "error",
     "traceback": [
      "\u001b[1;31m---------------------------------------------------------------------------\u001b[0m",
      "\u001b[1;31mKeyError\u001b[0m                                  Traceback (most recent call last)",
      "Cell \u001b[1;32mIn[17], line 4\u001b[0m\n\u001b[0;32m      2\u001b[0m ans \u001b[38;5;241m=\u001b[39m {}\n\u001b[0;32m      3\u001b[0m \u001b[38;5;28;01mfor\u001b[39;00m i \u001b[38;5;129;01min\u001b[39;00m \u001b[38;5;28mrange\u001b[39m(\u001b[38;5;241m0\u001b[39m,\u001b[38;5;28mlen\u001b[39m(x)):\n\u001b[1;32m----> 4\u001b[0m     ans[x[i]] \u001b[38;5;241m=\u001b[39m ans[x[i]] \u001b[38;5;241m+\u001b[39m \u001b[38;5;241m1\u001b[39m\n\u001b[0;32m      5\u001b[0m \u001b[38;5;28mprint\u001b[39m(ans)\n",
      "\u001b[1;31mKeyError\u001b[0m: 'India'"
     ]
    }
   ],
   "source": [
    "x = ['India' , 'wins' , 'WC' , '2023' , 'India' , 'WC']\n",
    "ans = {}\n",
    "for i in range(0,len(x)):\n",
    "    ans[x[i]] = ans[x[i]] + 1\n",
    "print(ans)"
   ]
  }
 ],
 "metadata": {
  "kernelspec": {
   "display_name": "Python 3 (ipykernel)",
   "language": "python",
   "name": "python3"
  },
  "language_info": {
   "codemirror_mode": {
    "name": "ipython",
    "version": 3
   },
   "file_extension": ".py",
   "mimetype": "text/x-python",
   "name": "python",
   "nbconvert_exporter": "python",
   "pygments_lexer": "ipython3",
   "version": "3.11.4"
  }
 },
 "nbformat": 4,
 "nbformat_minor": 5
}
